{
  "nbformat": 4,
  "nbformat_minor": 0,
  "metadata": {
    "colab": {
      "name": "image_generator.ipynb",
      "provenance": [],
      "collapsed_sections": [],
      "include_colab_link": true
    },
    "kernelspec": {
      "name": "python3",
      "display_name": "Python 3"
    },
    "language_info": {
      "name": "python"
    }
  },
  "cells": [
    {
      "cell_type": "markdown",
      "metadata": {
        "id": "view-in-github",
        "colab_type": "text"
      },
      "source": [
        "<a href=\"https://colab.research.google.com/github/mmdrez4/ProfileMatching/blob/main/image_generator.ipynb\" target=\"_parent\"><img src=\"https://colab.research.google.com/assets/colab-badge.svg\" alt=\"Open In Colab\"/></a>"
      ]
    },
    {
      "cell_type": "code",
      "metadata": {
        "id": "d613pHVZzxJ8"
      },
      "source": [
        "import requests\n",
        "import os\n",
        "import subprocess\n",
        "import urllib.request\n",
        "from bs4 import BeautifulSoup\n",
        "import tldextract"
      ],
      "execution_count": null,
      "outputs": []
    },
    {
      "cell_type": "code",
      "metadata": {
        "colab": {
          "base_uri": "https://localhost:8080/"
        },
        "id": "zX_M3wfzz1TI",
        "outputId": "e7b057a5-7e65-4dc7-cad3-0c8be98f3eb9"
      },
      "source": [
        "from google.colab import drive\n",
        "drive.mount('/content/drive', force_remount=True)"
      ],
      "execution_count": null,
      "outputs": [
        {
          "output_type": "stream",
          "text": [
            "Mounted at /content/drive\n"
          ],
          "name": "stdout"
        }
      ]
    },
    {
      "cell_type": "code",
      "metadata": {
        "colab": {
          "base_uri": "https://localhost:8080/"
        },
        "id": "dx7kez710PhD",
        "outputId": "01721ebb-03c5-4770-fd5b-ff522ca730b4"
      },
      "source": [
        "cd drive/MyDrive"
      ],
      "execution_count": null,
      "outputs": [
        {
          "output_type": "stream",
          "text": [
            "/content/drive/MyDrive\n"
          ],
          "name": "stdout"
        }
      ]
    },
    {
      "cell_type": "code",
      "metadata": {
        "colab": {
          "base_uri": "https://localhost:8080/"
        },
        "id": "fQx4UpaG0R_f",
        "outputId": "6b9d0923-cfe8-44b4-bd33-ba9e73070390"
      },
      "source": [
        "ls"
      ],
      "execution_count": null,
      "outputs": [
        {
          "output_type": "stream",
          "text": [
            " \u001b[0m\u001b[01;34mall_images\u001b[0m/\n",
            " antenna.pdf\n",
            " app-debug.apk\n",
            "'app-x86-debug (1).apk'\n",
            " app-x86-debug.apk\n",
            "\u001b[01;34m'Colab Notebooks'\u001b[0m/\n",
            "\u001b[01;34m'deep learning'\u001b[0m/\n",
            " errros_notices_messages.gsheet\n",
            " \u001b[01;34mfacecup\u001b[0m/\n",
            "'hqk-fijf-pxu – 18 Jan 2021 (1).gjam'\n",
            "'hqk-fijf-pxu – 18 Jan 2021 (2).gjam'\n",
            "'hqk-fijf-pxu – 18 Jan 2021.gjam'\n",
            " Karamuzi.pdf\n",
            "'Merit Pay - Colleague Versoin.gsheet'\n",
            " pixi.apk\n",
            "'PixoFarm Image Processing Engine - Corrupted Marker Detection.zip'\n",
            " pixofarm_revision_todos.gsheet\n",
            " test.exe\n",
            "'To-do list.gsheet'\n",
            " \u001b[01;34muniversity\u001b[0m/\n",
            "'Untitled document (1).gdoc'\n",
            "'Untitled document.gdoc'\n",
            " zanjan.dwg\n",
            " کابل.docx\n",
            "'لیست اسامی.gsheet'\n"
          ],
          "name": "stdout"
        }
      ]
    },
    {
      "cell_type": "code",
      "metadata": {
        "id": "L9fEciuJ0VRS"
      },
      "source": [
        "# !mkdir all_images"
      ],
      "execution_count": null,
      "outputs": []
    },
    {
      "cell_type": "code",
      "metadata": {
        "id": "tT8MqNAc0Wrz"
      },
      "source": [
        "os.chdir('all_images')"
      ],
      "execution_count": null,
      "outputs": []
    },
    {
      "cell_type": "code",
      "metadata": {
        "colab": {
          "base_uri": "https://localhost:8080/"
        },
        "id": "RZwbcrR50d8G",
        "outputId": "67c6c5f8-02e5-4b60-9f3e-592a74754ba1"
      },
      "source": [
        "!pwd"
      ],
      "execution_count": null,
      "outputs": [
        {
          "output_type": "stream",
          "text": [
            "/content/drive/MyDrive/all_images\n"
          ],
          "name": "stdout"
        }
      ]
    },
    {
      "cell_type": "code",
      "metadata": {
        "id": "ntUwTLA82a11"
      },
      "source": [
        "# !mkdir twitter, instagram"
      ],
      "execution_count": null,
      "outputs": []
    },
    {
      "cell_type": "code",
      "metadata": {
        "colab": {
          "base_uri": "https://localhost:8080/"
        },
        "id": "IbSosOCB2eig",
        "outputId": "bf2f7211-a2f3-401e-82fc-6b1c93f62b68"
      },
      "source": [
        "ls"
      ],
      "execution_count": null,
      "outputs": [
        {
          "output_type": "stream",
          "text": [
            " \u001b[0m\u001b[01;34mall_images\u001b[0m/\n",
            " antenna.pdf\n",
            " app-debug.apk\n",
            "'app-x86-debug (1).apk'\n",
            " app-x86-debug.apk\n",
            "\u001b[01;34m'Colab Notebooks'\u001b[0m/\n",
            "\u001b[01;34m'deep learning'\u001b[0m/\n",
            " errros_notices_messages.gsheet\n",
            " \u001b[01;34mfacecup\u001b[0m/\n",
            "'hqk-fijf-pxu – 18 Jan 2021 (1).gjam'\n",
            "'hqk-fijf-pxu – 18 Jan 2021 (2).gjam'\n",
            "'hqk-fijf-pxu – 18 Jan 2021.gjam'\n",
            " Karamuzi.pdf\n",
            "'Merit Pay - Colleague Versoin.gsheet'\n",
            " pixi.apk\n",
            "'PixoFarm Image Processing Engine - Corrupted Marker Detection.zip'\n",
            " pixofarm_revision_todos.gsheet\n",
            " test.exe\n",
            "'To-do list.gsheet'\n",
            " \u001b[01;34muniversity\u001b[0m/\n",
            "'Untitled document (1).gdoc'\n",
            "'Untitled document.gdoc'\n",
            " zanjan.dwg\n",
            " کابل.docx\n",
            "'لیست اسامی.gsheet'\n"
          ],
          "name": "stdout"
        }
      ]
    },
    {
      "cell_type": "code",
      "metadata": {
        "id": "8F2cbkeqd3Sl",
        "colab": {
          "base_uri": "https://localhost:8080/"
        },
        "outputId": "3ae10e54-cabf-4900-d0b1-3e5adc48cdf8"
      },
      "source": [
        "cd ../"
      ],
      "execution_count": null,
      "outputs": [
        {
          "output_type": "stream",
          "text": [
            "/content/drive/My Drive/all_images\n"
          ],
          "name": "stdout"
        }
      ]
    },
    {
      "cell_type": "code",
      "metadata": {
        "id": "FhWxoGCq1Qpd"
      },
      "source": [
        "import pandas as pd\n",
        "\n",
        "df = pd.read_csv('twitter_bio_profileLink.csv', usecols = ['description','profileImageUrl'], low_memory = True)"
      ],
      "execution_count": null,
      "outputs": []
    },
    {
      "cell_type": "code",
      "metadata": {
        "colab": {
          "base_uri": "https://localhost:8080/",
          "height": 204
        },
        "id": "Zsmj8BXa1h7_",
        "outputId": "e2e98862-835d-4b3c-d545-b8f566cdc901"
      },
      "source": [
        "df.head()"
      ],
      "execution_count": null,
      "outputs": [
        {
          "output_type": "execute_result",
          "data": {
            "text/html": [
              "<div>\n",
              "<style scoped>\n",
              "    .dataframe tbody tr th:only-of-type {\n",
              "        vertical-align: middle;\n",
              "    }\n",
              "\n",
              "    .dataframe tbody tr th {\n",
              "        vertical-align: top;\n",
              "    }\n",
              "\n",
              "    .dataframe thead th {\n",
              "        text-align: right;\n",
              "    }\n",
              "</style>\n",
              "<table border=\"1\" class=\"dataframe\">\n",
              "  <thead>\n",
              "    <tr style=\"text-align: right;\">\n",
              "      <th></th>\n",
              "      <th>description</th>\n",
              "      <th>profileImageUrl</th>\n",
              "    </tr>\n",
              "  </thead>\n",
              "  <tbody>\n",
              "    <tr>\n",
              "      <th>0</th>\n",
              "      <td>instagram @1waylib</td>\n",
              "      <td>https://pbs.twimg.com/profile_images/132878680...</td>\n",
              "    </tr>\n",
              "    <tr>\n",
              "      <th>1</th>\n",
              "      <td>F.I.N.A.O instagram:5kmatt</td>\n",
              "      <td>https://pbs.twimg.com/profile_images/129323349...</td>\n",
              "    </tr>\n",
              "    <tr>\n",
              "      <th>2</th>\n",
              "      <td>90 Day Fiancé an US reality series on TLC \\n#9...</td>\n",
              "      <td>https://pbs.twimg.com/profile_images/108618715...</td>\n",
              "    </tr>\n",
              "    <tr>\n",
              "      <th>3</th>\n",
              "      <td>American University's official Art History fee...</td>\n",
              "      <td>https://pbs.twimg.com/profile_images/104115796...</td>\n",
              "    </tr>\n",
              "    <tr>\n",
              "      <th>4</th>\n",
              "      <td>Official Twitter of American University Men's ...</td>\n",
              "      <td>https://pbs.twimg.com/profile_images/103015335...</td>\n",
              "    </tr>\n",
              "  </tbody>\n",
              "</table>\n",
              "</div>"
            ],
            "text/plain": [
              "                                         description                                    profileImageUrl\n",
              "0                                 instagram @1waylib  https://pbs.twimg.com/profile_images/132878680...\n",
              "1                         F.I.N.A.O instagram:5kmatt  https://pbs.twimg.com/profile_images/129323349...\n",
              "2  90 Day Fiancé an US reality series on TLC \\n#9...  https://pbs.twimg.com/profile_images/108618715...\n",
              "3  American University's official Art History fee...  https://pbs.twimg.com/profile_images/104115796...\n",
              "4  Official Twitter of American University Men's ...  https://pbs.twimg.com/profile_images/103015335..."
            ]
          },
          "metadata": {
            "tags": []
          },
          "execution_count": 15
        }
      ]
    },
    {
      "cell_type": "code",
      "metadata": {
        "id": "-kkMu36v3yXW"
      },
      "source": [
        "os.chdir('images')"
      ],
      "execution_count": null,
      "outputs": []
    },
    {
      "cell_type": "code",
      "metadata": {
        "id": "54--byQt0hnV"
      },
      "source": [
        "broken_images = []\n",
        "image_urls = df['profileImageUrl']"
      ],
      "execution_count": null,
      "outputs": []
    },
    {
      "cell_type": "code",
      "metadata": {
        "colab": {
          "base_uri": "https://localhost:8080/"
        },
        "id": "QRNf3NmL1sEN",
        "outputId": "5802ac35-ea55-4c08-9099-da03d9f53af8"
      },
      "source": [
        "print(len(image_urls))"
      ],
      "execution_count": null,
      "outputs": [
        {
          "output_type": "stream",
          "text": [
            "20002\n"
          ],
          "name": "stdout"
        }
      ]
    },
    {
      "cell_type": "code",
      "metadata": {
        "colab": {
          "base_uri": "https://localhost:8080/"
        },
        "id": "FDERGINH0tfs",
        "outputId": "1065a019-832e-4dd8-b423-e020ad2f2a95"
      },
      "source": [
        "for img in image_urls[:50]:\n",
        "    # We can split the file based upon / and extract the last split within the python list below:\n",
        "    file_name = img.split('/')[-1]\n",
        "    print(f\"This is the file name: {file_name}\")\n",
        "    # Now let's send a request to the image URL:\n",
        "    r = requests.get(img, stream=True)\n",
        "    # We can check that the status code is 200 before doing anything else:\n",
        "    if r.status_code == 200:\n",
        "        # This command below will allow us to write the data to a file as binary:\n",
        "        folder = 'twitter-' + file_name.split('.')[0]\n",
        "        path = \"{}/{}\".format(folder, file_name)\n",
        "        os.makedirs(folder)\n",
        "        with open(path, 'wb') as f:\n",
        "            for chunk in r:\n",
        "                f.write(chunk)\n",
        "    else:\n",
        "        # We will write all of the images back to the broken_images list:\n",
        "        broken_images.append(img)"
      ],
      "execution_count": null,
      "outputs": [
        {
          "output_type": "stream",
          "text": [
            "This is the file name: hMGsbtS2_normal.jpg\n",
            "This is the file name: 10-ARDP__normal.jpg\n",
            "This is the file name: izM0mEkI_normal.jpg\n",
            "This is the file name: NgA95YKH_normal.jpg\n",
            "This is the file name: j12ItDlm_normal.jpg\n",
            "This is the file name: -jBeC7SM_normal.jpg\n",
            "This is the file name: nv78N9Wp_normal.jpg\n",
            "This is the file name: jtGHqsD5_normal.jpg\n",
            "This is the file name: EA5XFRYX_normal.jpg\n",
            "This is the file name: mQqxd0HH_normal.jpg\n",
            "This is the file name: eJ1_QR8y_normal.jpg\n",
            "This is the file name: 34SVKmHO_normal.jpg\n",
            "This is the file name: 4EgkoY7s_normal.jpg\n",
            "This is the file name: s8j5y2UI_normal.jpg\n",
            "This is the file name: tpKzkpP8_normal.jpg\n",
            "This is the file name: QgR-y7K2_normal.jpg\n",
            "This is the file name: MA3wXTxq_normal.jpg\n",
            "This is the file name: ksTj6mny_normal.jpg\n",
            "This is the file name: aFTJvvpR_normal.jpg\n",
            "This is the file name: foL-ysNQ_normal.jpg\n",
            "This is the file name: b-NSbHFo_normal.jpg\n",
            "This is the file name: 0cLAroOQ_normal.jpg\n",
            "This is the file name: Fp6Y84nu_normal.jpg\n",
            "This is the file name: FYIOHXvJ_normal.jpg\n",
            "This is the file name: dMcTod4D_normal.jpg\n",
            "This is the file name: _AIRdIdu_normal.jpg\n",
            "This is the file name: hVKVTfP4_normal.jpg\n",
            "This is the file name: EE3QOamI_normal.jpg\n",
            "This is the file name: dCeLbYmv_normal.jpg\n",
            "This is the file name: pIVa8hrk_normal.jpg\n",
            "This is the file name: 70vYa7ok_normal.jpg\n",
            "This is the file name: Q-o-l-rg_normal.jpg\n",
            "This is the file name: Ae4xs36r_normal.jpg\n",
            "This is the file name: CyeoBFcW_normal.jpg\n",
            "This is the file name: oT_Pyccc_normal.jpg\n",
            "This is the file name: PRPGJx2v_normal.jpg\n",
            "This is the file name: 4wJLBxpQ_normal.jpg\n",
            "This is the file name: 5IEcNxIJ_normal.jpg\n",
            "This is the file name: 8_Icajd5_normal.jpg\n",
            "This is the file name: vl6GKjJZ_normal.png\n",
            "This is the file name: BThIj3jo_normal.jpg\n",
            "This is the file name: kcBgE4DJ_normal.jpg\n",
            "This is the file name: voG_FupA_normal.jpg\n",
            "This is the file name: -wi5rXAS_normal.jpg\n",
            "This is the file name: NjdT_kh8_normal.jpg\n",
            "This is the file name: o08km8yB_normal.jpg\n",
            "This is the file name: u7XH0pJH_normal.jpg\n",
            "This is the file name: y60ObVE0_normal.jpg\n",
            "This is the file name: 4Gt88cXW_normal.jpg\n",
            "This is the file name: 8VbMfK3c_normal.jpg\n"
          ],
          "name": "stdout"
        }
      ]
    },
    {
      "cell_type": "code",
      "metadata": {
        "id": "Bp0h4EZJ0w_C"
      },
      "source": [
        "# cd .."
      ],
      "execution_count": null,
      "outputs": []
    },
    {
      "cell_type": "code",
      "metadata": {
        "id": "0ZGnPPi74ayO"
      },
      "source": [
        "os.chdir('instagram')"
      ],
      "execution_count": null,
      "outputs": []
    },
    {
      "cell_type": "code",
      "metadata": {
        "id": "4qx8lS3H4cHE"
      },
      "source": [
        "description = df['description']"
      ],
      "execution_count": null,
      "outputs": []
    },
    {
      "cell_type": "code",
      "metadata": {
        "colab": {
          "base_uri": "https://localhost:8080/",
          "height": 37
        },
        "id": "WT3b6Tia-XMG",
        "outputId": "57e264e4-eb80-462e-fe75-22d5e76cdc3e"
      },
      "source": [
        "description[66]"
      ],
      "execution_count": null,
      "outputs": [
        {
          "output_type": "execute_result",
          "data": {
            "application/vnd.google.colaboratory.intrinsic+json": {
              "type": "string"
            },
            "text/plain": [
              "\"Documentarian of ZekeTheDCCat (instagram.com/zekethedccat)🐱 and life's beautiful & magical moments ✝.\""
            ]
          },
          "metadata": {
            "tags": []
          },
          "execution_count": 28
        }
      ]
    },
    {
      "cell_type": "code",
      "metadata": {
        "id": "OVNhEkVPO6Xc"
      },
      "source": [
        "import re\n",
        "def remove_emoji(string):\n",
        "    emoji_pattern = re.compile(\"[\"\n",
        "                           u\"\\U0001F600-\\U0001F64F\"  # emoticons\n",
        "                           u\"\\U0001F300-\\U0001F5FF\"  # symbols & pictographs\n",
        "                           u\"\\U0001F680-\\U0001F6FF\"  # transport & map symbols\n",
        "                           u\"\\U0001F1E0-\\U0001F1FF\"  # flags (iOS)\n",
        "                           u\"\\U00002702-\\U000027B0\"\n",
        "                           u\"\\U000024C2-\\U0001F251\"\n",
        "                           \"]+\", flags=re.UNICODE)\n",
        "    return emoji_pattern.sub(r'', string)"
      ],
      "execution_count": null,
      "outputs": []
    },
    {
      "cell_type": "code",
      "metadata": {
        "id": "RwudHu7G_SnW"
      },
      "source": [
        "def get_instagram_id(s):\n",
        "  delim = [\"instagram.com/\", \"insta: \" , \"instagram:\", \"instagram.com/p/\", \"@\"]\n",
        "  id = ' '\n",
        "  s = remove_emoji(s)\n",
        "  if s.partition(delim[0])[2] != '':\n",
        "    id = s.partition(delim[0])[2]\n",
        "  elif  s.partition(delim[1])[2] != '':\n",
        "    id = s.partition(delim[1])[2]\n",
        "  elif  s.partition(delim[2])[2] != '':\n",
        "    id = s.partition(delim[2])[2]\n",
        "  elif  s.partition(delim[3])[2] != '':\n",
        "    id = s.partition(delim[3])[2]\n",
        "  else:\n",
        "    if s.partition('insta')[2] != '':\n",
        "      str0 = s.partition('insta')[2]\n",
        "      if str0.partition(delim[4])[2] != '':\n",
        "        id = str0.partition(delim[4])[2]\n",
        "\n",
        "  id = id.split('\\n')\n",
        "  id = \" \".join(id)\n",
        "\n",
        "  id_safe = id.replace('/', '')\n",
        "  id_safe = id.replace(')', '')\n",
        "  id_safe = id.replace('...', '')\n",
        "\n",
        "  return id_safe.split(' ')[0]"
      ],
      "execution_count": null,
      "outputs": []
    },
    {
      "cell_type": "code",
      "metadata": {
        "colab": {
          "base_uri": "https://localhost:8080/"
        },
        "id": "YxEmP0-u--A9",
        "outputId": "f48c8d46-669b-4b99-8b1c-c7509e881506"
      },
      "source": [
        "str = description[2]\n",
        "instagram_id = get_instagram_id(str)\n",
        "instagram_id = re.sub(r'[^a-zA-Z0-9_.]', '',instagram_id)\n",
        "print(instagram_id)\n",
        "print(str)"
      ],
      "execution_count": null,
      "outputs": [
        {
          "output_type": "stream",
          "text": [
            "90dayfiancegos\n",
            "90 Day Fiancé an US reality series on TLC \n",
            "#90DayFiance #90dayfiancehappilyeverafter #90DayFiancePillowTalk\n",
            "Follow us On Insta : instagram.com/90dayfiancegos…\n"
          ],
          "name": "stdout"
        }
      ]
    },
    {
      "cell_type": "code",
      "metadata": {
        "id": "FzQ6ri2I68n7"
      },
      "source": [
        "from instagramy.plugins.download import *\n",
        "\n",
        "session_id = \"1633830081%3Ag8CMgoiL4omRBl%3A13\"\n"
      ],
      "execution_count": null,
      "outputs": []
    },
    {
      "cell_type": "code",
      "metadata": {
        "colab": {
          "base_uri": "https://localhost:8080/"
        },
        "id": "zhrA9ewb7VeU",
        "outputId": "d29c6fbe-307b-4314-99a3-c0c3e4cc5ba2"
      },
      "source": [
        "for desc in description[:50]:\n",
        "  try:\n",
        "    instagram_id = get_instagram_id(desc)\n",
        "    instagramid = re.sub(r'[^a-zA-Z0-9_.]', '',instagram_id)\n",
        "    folder = 'instagram-' + instagramid\n",
        "    path = \"{}/{}\".format(folder, instagramid)\n",
        "    os.makedirs(folder)\n",
        "    download_profile_pic(username=instagramid, sessionid=session_id, filepath=path)\n",
        "  except:\n",
        "    print('error: ', instagramid, desc)\n",
        "    continue\n",
        "  "
      ],
      "execution_count": null,
      "outputs": [
        {
          "output_type": "stream",
          "text": [
            "error:  90dayfiancegos 90 Day Fiancé an US reality series on TLC \n",
            "#90DayFiance #90dayfiancehappilyeverafter #90DayFiancePillowTalk\n",
            "Follow us On Insta : instagram.com/90dayfiancegos…\n",
            "error:  pB5cuhlQBaZm ‏‏‏‏‏‏‏‏هفضل ضهر نفسي مهمااا مالت كل الحيطان ♥️👑☝️\n",
            "الفيس facebook.com/profile‎.\n",
            "انستا :instagram.com/p/B5cuhlQBaZm/…\n",
            "error:  akoma_counseli Shivonne Odom, LCPC, LPC, NCC, PMH-C #BlackMaternalMentalHealth expert || HowardU Alumna ❤️💙 || IG: instagram.com/akoma_counseli…\n",
            "error:  martoulakigsh غلاط هستم بر وزن سجاد یعنی بسیار غلط املایی دارنده instagram.com/martoulak?igsh…\n",
            "error:  artistryofashl Really just tweeting #90dayfiance Maybe some art. I’m better on IG instagram.com/artistryofashl…\n",
            "error:   Marine Corps Vet, Entrepreneur, Real Estate Agent and Podcaster. Check me out on all platforms.  instabio.cc/BigBrotherTrev\n",
            "error:   On October 4, 2016, Pope Francis named Bishop Burbidge the fourth Bishop of @arlingtonchurch. He was installed on December 6, 2016.\n",
            "error:   21 || wwu🌲|| seattle sports ⚾️ 🏈 ⚽️🏒|| instagram: @Brittbrittr24 cashapp: $Brittbrittr24\n",
            "error:  arguingbrothers Enthusiastic sports fanatic? Passionate about your favorite team? \n",
            "instagram.com/arguingbrothers… owned by Thomas Road Media, LLC\n",
            "error:   Commander, Navy Installations Command (CNIC) is responsible for worldwide shore installation support to the Fleet, Fighter and Family.\n",
            "error:   instagram: celeste.iv\n",
            "error:  rivalschadsimm Believer, Husband, Father and Recruiting Analyst for Rivals | Phil. 4:13 - It is not about me 👆🏼- IG: instagram.com/rivalschadsimm…\n",
            "error:   Our company is dedicated to serving our customers with top notch customer service and quality roofing material. Proper installation is our specialty🏡\n",
            "error:  colombiaEmbass Official Twitter of the Embassy of Colombia in Washington DC. News, Government Policies and Culture Instagram instagram.com/colombiaEmbass…\n",
            "error:   Electrician by day, husband, father and gamer at night. Follow me! twitch • compl3xed • instagram • compl3xed.gg\n",
            "error:  cyb3line Gamer #RainbowSixSiege #VALORANT #APEX  - Community Manager EN/Translator for @ESIX_FR  @ESIX_EN -IG instagram.com/cyb3line/\n",
            "error:  culturaltouris Follow us to discover and experience the art, culture and heritage of #DC \n",
            "IG: instagram.com/culturaltouris…\n",
            "FB: facebook.com/CulturalTouris…\n",
            "error:   OB/GYN | Social justice warrior |Physician Faculty | womxn’s rights & anti-oppression✊🏽| Immigrant Made| she/hers/ella | opinions my own| insta:dramariamsavabi\n",
            "error:  evelynh.gardett Writer on public policy, culture, and the arts 🎵\n",
            "Matthew 5:37 #TruthGoodnessBeauty\n",
            "instagram.com/evelynh.gardett\n",
            "one-runners-journey.com\n",
            "error:  keshaunyaboiii instagram.com/keshaunyaboiii…\n"
          ],
          "name": "stdout"
        }
      ]
    },
    {
      "cell_type": "code",
      "metadata": {
        "id": "UyYMtTSUPfN8"
      },
      "source": [
        ""
      ],
      "execution_count": null,
      "outputs": []
    }
  ]
}
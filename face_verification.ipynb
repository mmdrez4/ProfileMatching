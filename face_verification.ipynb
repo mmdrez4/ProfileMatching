{
  "nbformat": 4,
  "nbformat_minor": 0,
  "metadata": {
    "kernelspec": {
      "display_name": "Python 3",
      "language": "python",
      "name": "python3"
    },
    "language_info": {
      "codemirror_mode": {
        "name": "ipython",
        "version": 3
      },
      "file_extension": ".py",
      "mimetype": "text/x-python",
      "name": "python",
      "nbconvert_exporter": "python",
      "pygments_lexer": "ipython3",
      "version": "3.7.3"
    },
    "colab": {
      "name": "face_verification.ipynb",
      "provenance": [],
      "include_colab_link": true
    }
  },
  "cells": [
    {
      "cell_type": "markdown",
      "metadata": {
        "id": "view-in-github",
        "colab_type": "text"
      },
      "source": [
        "<a href=\"https://colab.research.google.com/github/mmdrez4/ProfileMatching/blob/main/face_verification.ipynb\" target=\"_parent\"><img src=\"https://colab.research.google.com/assets/colab-badge.svg\" alt=\"Open In Colab\"/></a>"
      ]
    },
    {
      "cell_type": "markdown",
      "metadata": {
        "id": "4k6KbcLtvdHu"
      },
      "source": [
        "# Face detection and recognition inference pipeline\n",
        "\n",
        "The following example illustrates how to use the `facenet_pytorch` python package to perform face detection and recogition on an image dataset using an Inception Resnet V1 pretrained on the VGGFace2 dataset.\n",
        "\n",
        "The following Pytorch methods are included:\n",
        "* Datasets\n",
        "* Dataloaders\n",
        "* GPU/CPU processing"
      ]
    },
    {
      "cell_type": "code",
      "metadata": {
        "id": "5ukkJlMQviYp",
        "colab": {
          "base_uri": "https://localhost:8080/"
        },
        "outputId": "3ee6e935-e73c-44c7-d2ff-84b03a61a67f"
      },
      "source": [
        "from google.colab import drive\n",
        "drive.mount('/content/drive')"
      ],
      "execution_count": null,
      "outputs": [
        {
          "output_type": "stream",
          "text": [
            "Drive already mounted at /content/drive; to attempt to forcibly remount, call drive.mount(\"/content/drive\", force_remount=True).\n"
          ],
          "name": "stdout"
        }
      ]
    },
    {
      "cell_type": "code",
      "metadata": {
        "id": "RN7tbkpSx66a",
        "colab": {
          "base_uri": "https://localhost:8080/"
        },
        "outputId": "01711bae-a419-4462-973c-37ae4e412221"
      },
      "source": [
        "# cd MyDrive/'Colab Notebooks'/datasets/\n",
        "!ls"
      ],
      "execution_count": null,
      "outputs": [
        {
          "output_type": "stream",
          "text": [
            "drive  sample_data\n"
          ],
          "name": "stdout"
        }
      ]
    },
    {
      "cell_type": "code",
      "metadata": {
        "colab": {
          "base_uri": "https://localhost:8080/"
        },
        "id": "pzPYJ4DLyK3b",
        "outputId": "0c3adb75-602d-4e12-f223-ba2513d3d4ff"
      },
      "source": [
        "pip install facenet_pytorch"
      ],
      "execution_count": null,
      "outputs": [
        {
          "output_type": "stream",
          "text": [
            "Collecting facenet_pytorch\n",
            "  Downloading facenet_pytorch-2.5.2-py3-none-any.whl (1.9 MB)\n",
            "\u001b[K     |████████████████████████████████| 1.9 MB 4.1 MB/s \n",
            "\u001b[?25hRequirement already satisfied: numpy in /usr/local/lib/python3.7/dist-packages (from facenet_pytorch) (1.19.5)\n",
            "Requirement already satisfied: torchvision in /usr/local/lib/python3.7/dist-packages (from facenet_pytorch) (0.10.0+cu102)\n",
            "Requirement already satisfied: pillow in /usr/local/lib/python3.7/dist-packages (from facenet_pytorch) (7.1.2)\n",
            "Requirement already satisfied: requests in /usr/local/lib/python3.7/dist-packages (from facenet_pytorch) (2.23.0)\n",
            "Requirement already satisfied: idna<3,>=2.5 in /usr/local/lib/python3.7/dist-packages (from requests->facenet_pytorch) (2.10)\n",
            "Requirement already satisfied: certifi>=2017.4.17 in /usr/local/lib/python3.7/dist-packages (from requests->facenet_pytorch) (2021.5.30)\n",
            "Requirement already satisfied: urllib3!=1.25.0,!=1.25.1,<1.26,>=1.21.1 in /usr/local/lib/python3.7/dist-packages (from requests->facenet_pytorch) (1.24.3)\n",
            "Requirement already satisfied: chardet<4,>=3.0.2 in /usr/local/lib/python3.7/dist-packages (from requests->facenet_pytorch) (3.0.4)\n",
            "Requirement already satisfied: torch==1.9.0 in /usr/local/lib/python3.7/dist-packages (from torchvision->facenet_pytorch) (1.9.0+cu102)\n",
            "Requirement already satisfied: typing-extensions in /usr/local/lib/python3.7/dist-packages (from torch==1.9.0->torchvision->facenet_pytorch) (3.7.4.3)\n",
            "Installing collected packages: facenet-pytorch\n",
            "Successfully installed facenet-pytorch-2.5.2\n"
          ],
          "name": "stdout"
        }
      ]
    },
    {
      "cell_type": "code",
      "metadata": {
        "id": "w-YwmSavvdHy",
        "colab": {
          "base_uri": "https://localhost:8080/"
        },
        "outputId": "d08c83f7-fb14-441e-8f66-0493e15d1ba3"
      },
      "source": [
        "from facenet_pytorch import MTCNN, InceptionResnetV1\n",
        "import torch\n",
        "from torch.utils.data import DataLoader\n",
        "from torchvision import datasets\n",
        "import numpy as np\n",
        "import pandas as pd\n",
        "import os\n",
        "\n",
        "%pylab inline\n",
        "import matplotlib.pyplot as plt\n",
        "import matplotlib.image as mpimg\n",
        "\n",
        "workers = 0 if os.name == 'nt' else 4"
      ],
      "execution_count": null,
      "outputs": [
        {
          "output_type": "stream",
          "text": [
            "Populating the interactive namespace from numpy and matplotlib\n"
          ],
          "name": "stdout"
        }
      ]
    },
    {
      "cell_type": "markdown",
      "metadata": {
        "id": "MGKZd56ovdHy"
      },
      "source": [
        "#### Determine if an nvidia GPU is available"
      ]
    },
    {
      "cell_type": "code",
      "metadata": {
        "id": "x47eDkl_vdHz",
        "colab": {
          "base_uri": "https://localhost:8080/"
        },
        "outputId": "6f89989a-0a73-4237-8fb4-5b80d64f8e15"
      },
      "source": [
        "device = torch.device('cuda:0' if torch.cuda.is_available() else 'cpu')\n",
        "print('Running on device: {}'.format(device))"
      ],
      "execution_count": null,
      "outputs": [
        {
          "output_type": "stream",
          "text": [
            "Running on device: cpu\n"
          ],
          "name": "stdout"
        }
      ]
    },
    {
      "cell_type": "markdown",
      "metadata": {
        "id": "uNpfX0-IvdH0"
      },
      "source": [
        "#### Define MTCNN module\n",
        "\n",
        "Default params shown for illustration, but not needed. Note that, since MTCNN is a collection of neural nets and other code, the device must be passed in the following way to enable copying of objects when needed internally."
      ]
    },
    {
      "cell_type": "code",
      "metadata": {
        "id": "1PdKcDjivdH0"
      },
      "source": [
        "mtcnn = MTCNN(\n",
        "    image_size=160, margin=0, min_face_size=20,\n",
        "    thresholds=[0.6, 0.7, 0.7], factor=0.709, post_process=True,\n",
        "    device=device\n",
        ")"
      ],
      "execution_count": null,
      "outputs": []
    },
    {
      "cell_type": "markdown",
      "metadata": {
        "id": "XaQMCck6vdH1"
      },
      "source": [
        "#### Define Inception Resnet V1 module\n",
        "\n",
        "Set classify=True for pretrained classifier. For this example, we will use the model to output embeddings/CNN features. Note that for inference, it is important to set the model to `eval` mode."
      ]
    },
    {
      "cell_type": "code",
      "metadata": {
        "id": "-EOkWQ0YvdH1"
      },
      "source": [
        "resnet = InceptionResnetV1(pretrained='vggface2').eval().to(device)"
      ],
      "execution_count": null,
      "outputs": []
    },
    {
      "cell_type": "markdown",
      "metadata": {
        "id": "nBvMUcblvdH2"
      },
      "source": [
        "#### Define a dataset and data loader\n",
        "\n",
        "We add the `idx_to_class` attribute to the dataset to enable easy recoding of label indices to identity names later one."
      ]
    },
    {
      "cell_type": "code",
      "metadata": {
        "id": "2VqnyPeDW_7R",
        "colab": {
          "base_uri": "https://localhost:8080/"
        },
        "outputId": "803a0db7-8fb4-4313-ba4f-5b4b41824a36"
      },
      "source": [
        "cd all_images/"
      ],
      "execution_count": null,
      "outputs": [
        {
          "output_type": "stream",
          "text": [
            "[Errno 2] No such file or directory: 'all_images/'\n",
            "/content\n"
          ],
          "name": "stdout"
        }
      ]
    },
    {
      "cell_type": "code",
      "metadata": {
        "id": "SUhLV1I3deNg",
        "colab": {
          "base_uri": "https://localhost:8080/"
        },
        "outputId": "f96c73af-9052-47d7-b323-f4cb37289511"
      },
      "source": [
        "cd drive/MyDrive/"
      ],
      "execution_count": null,
      "outputs": [
        {
          "output_type": "stream",
          "text": [
            "/content/drive/MyDrive\n"
          ],
          "name": "stdout"
        }
      ]
    },
    {
      "cell_type": "code",
      "metadata": {
        "colab": {
          "base_uri": "https://localhost:8080/"
        },
        "id": "A5NJ7T7wylpn",
        "outputId": "fc7e590f-47c4-4a50-f51d-65a390009baf"
      },
      "source": [
        "cd all_images/"
      ],
      "execution_count": null,
      "outputs": [
        {
          "output_type": "stream",
          "text": [
            "/content/drive/My Drive/all_images\n"
          ],
          "name": "stdout"
        }
      ]
    },
    {
      "cell_type": "code",
      "metadata": {
        "id": "gpEG_4seXMHW",
        "colab": {
          "base_uri": "https://localhost:8080/"
        },
        "outputId": "631c1372-3db6-49eb-a917-b52b964a8fa9"
      },
      "source": [
        "!ls"
      ],
      "execution_count": null,
      "outputs": [
        {
          "output_type": "stream",
          "text": [
            "all  images  instagram\ttwitter  twitter_bio_profileLink.csv\n"
          ],
          "name": "stdout"
        }
      ]
    },
    {
      "cell_type": "code",
      "metadata": {
        "id": "zdhx1XzRvdH2",
        "colab": {
          "base_uri": "https://localhost:8080/"
        },
        "outputId": "f65e56a5-6218-4f1e-d72e-840fcfe7727b"
      },
      "source": [
        "def collate_fn(x):\n",
        "    return x[0]\n",
        "\n",
        "dataset = datasets.ImageFolder('images')\n",
        "dataset.idx_to_class = {i:c for c, i in dataset.class_to_idx.items()}\n",
        "loader = DataLoader(dataset, collate_fn=collate_fn, num_workers=workers)"
      ],
      "execution_count": null,
      "outputs": [
        {
          "output_type": "stream",
          "text": [
            "/usr/local/lib/python3.7/dist-packages/torch/utils/data/dataloader.py:481: UserWarning: This DataLoader will create 4 worker processes in total. Our suggested max number of worker in current system is 2, which is smaller than what this DataLoader is going to create. Please be aware that excessive worker creation might get DataLoader running slow or even freeze, lower the worker number to avoid potential slowness/freeze if necessary.\n",
            "  cpuset_checked))\n"
          ],
          "name": "stderr"
        }
      ]
    },
    {
      "cell_type": "markdown",
      "metadata": {
        "id": "U1DD_WAGvdH2"
      },
      "source": [
        "#### Perfom MTCNN facial detection\n",
        "\n",
        "Iterate through the DataLoader object and detect faces and associated detection probabilities for each. The `MTCNN` forward method returns images cropped to the detected face, if a face was detected. By default only a single detected face is returned - to have `MTCNN` return all detected faces, set `keep_all=True` when creating the MTCNN object above.\n"
      ]
    },
    {
      "cell_type": "code",
      "metadata": {
        "id": "rgh6g8W9vdH3",
        "colab": {
          "base_uri": "https://localhost:8080/"
        },
        "outputId": "5538752c-357d-4300-8799-3601ab15fecd"
      },
      "source": [
        "aligned = []\n",
        "names = []\n",
        "for x, y in loader:\n",
        "    x_aligned, prob = mtcnn(x, return_prob=True)\n",
        "    if x_aligned is not None:\n",
        "        print('Face detected with probability: {:8f}'.format(prob))\n",
        "        aligned.append(x_aligned)\n",
        "        names.append(dataset.idx_to_class[y])"
      ],
      "execution_count": null,
      "outputs": [
        {
          "output_type": "stream",
          "text": [
            "/usr/local/lib/python3.7/dist-packages/torch/utils/data/dataloader.py:481: UserWarning: This DataLoader will create 4 worker processes in total. Our suggested max number of worker in current system is 2, which is smaller than what this DataLoader is going to create. Please be aware that excessive worker creation might get DataLoader running slow or even freeze, lower the worker number to avoid potential slowness/freeze if necessary.\n",
            "  cpuset_checked))\n",
            "/usr/local/lib/python3.7/dist-packages/torch/nn/functional.py:718: UserWarning: Named tensors and all their associated APIs are an experimental feature and subject to change. Please do not use them for anything important until they are released as stable. (Triggered internally at  /pytorch/c10/core/TensorImpl.h:1156.)\n",
            "  return torch.max_pool2d(input, kernel_size, stride, padding, dilation, ceil_mode)\n"
          ],
          "name": "stderr"
        },
        {
          "output_type": "stream",
          "text": [
            "Face detected with probability: 0.999999\n",
            "Face detected with probability: 0.998759\n",
            "Face detected with probability: 0.999994\n",
            "Face detected with probability: 0.992183\n",
            "Face detected with probability: 0.999889\n",
            "Face detected with probability: 0.999952\n",
            "Face detected with probability: 0.998404\n",
            "Face detected with probability: 0.998649\n",
            "Face detected with probability: 0.999997\n",
            "Face detected with probability: 0.999864\n",
            "Face detected with probability: 0.995644\n",
            "Face detected with probability: 0.999958\n",
            "Face detected with probability: 0.993110\n",
            "Face detected with probability: 1.000000\n",
            "Face detected with probability: 0.990958\n",
            "Face detected with probability: 0.999983\n",
            "Face detected with probability: 0.999992\n",
            "Face detected with probability: 0.987325\n",
            "Face detected with probability: 0.999399\n",
            "Face detected with probability: 0.942247\n",
            "Face detected with probability: 0.993067\n",
            "Face detected with probability: 0.999890\n",
            "Face detected with probability: 0.859619\n",
            "Face detected with probability: 0.999715\n"
          ],
          "name": "stdout"
        }
      ]
    },
    {
      "cell_type": "markdown",
      "metadata": {
        "id": "ai7EqtMevdH3"
      },
      "source": [
        "#### Calculate image embeddings\n",
        "\n",
        "MTCNN will return images of faces all the same size, enabling easy batch processing with the Resnet recognition module. Here, since we only have a few images, we build a single batch and perform inference on it. \n",
        "\n",
        "For real datasets, code should be modified to control batch sizes being passed to the Resnet, particularly if being processed on a GPU. For repeated testing, it is best to separate face detection (using MTCNN) from embedding or classification (using InceptionResnetV1), as calculation of cropped faces or bounding boxes can then be performed a single time and detected faces saved for future use."
      ]
    },
    {
      "cell_type": "code",
      "metadata": {
        "id": "KyHDFVTRvdH4"
      },
      "source": [
        "aligned = torch.stack(aligned).to(device)\n",
        "embeddings = resnet(aligned).detach().cpu()"
      ],
      "execution_count": null,
      "outputs": []
    },
    {
      "cell_type": "markdown",
      "metadata": {
        "id": "iB6fxuMIvdH4"
      },
      "source": [
        "#### Print distance matrix for classes"
      ]
    },
    {
      "cell_type": "code",
      "metadata": {
        "id": "hvopv3uMvdH4",
        "colab": {
          "base_uri": "https://localhost:8080/"
        },
        "outputId": "4ef1b785-0017-4392-91ce-2c363c4ae806"
      },
      "source": [
        "dists = [[(e1 - e2).norm().item() for e2 in embeddings] for e1 in embeddings]\n",
        "print(pd.DataFrame(dists, columns=names, index=names))"
      ],
      "execution_count": null,
      "outputs": [
        {
          "output_type": "stream",
          "text": [
            "                           instagram-CILLIZZAC  ...  twitter-o08km8yB_normal\n",
            "instagram-CILLIZZAC                   0.000000  ...                 1.325226\n",
            "instagram-aaronthespartan             1.371163  ...                 1.461280\n",
            "instagram-abender_xo                  1.450757  ...                 1.162049\n",
            "instagram-achelthegreat               1.547142  ...                 1.418785\n",
            "instagram-aimeecho                    1.412625  ...                 1.601887\n",
            "instagram-anaejaaa_                   1.474746  ...                 1.373490\n",
            "instagram-annecutler                  1.458985  ...                 1.496802\n",
            "instagram-auarthistory                1.432768  ...                 1.248513\n",
            "instagram-bdoggy25                    1.312631  ...                 1.166821\n",
            "instagram-beetut3                     1.593312  ...                 1.501690\n",
            "instagram-bigdaddidro                 1.478219  ...                 1.375349\n",
            "instagram-booyou                      1.366865  ...                 1.141912\n",
            "instagram-brittghiroli                1.483231  ...                 1.303012\n",
            "instagram-cypeters24                  1.374017  ...                 1.378961\n",
            "instagram-exigent_comics              1.635368  ...                 1.301771\n",
            "instagram-israagbril                  1.497028  ...                 1.390482\n",
            "instagram-tai_newman_art              1.483974  ...                 1.304318\n",
            "twitter-4EgkoY7s_normal               1.367517  ...                 1.317651\n",
            "twitter-EA5XFRYX_normal               1.280969  ...                 1.194113\n",
            "twitter-Fp6Y84nu_normal               1.512043  ...                 1.426749\n",
            "twitter-NgA95YKH_normal               1.392862  ...                 1.325060\n",
            "twitter-b-NSbHFo_normal               1.316399  ...                 1.341155\n",
            "twitter-foL-ysNQ_normal               1.373752  ...                 1.271072\n",
            "twitter-o08km8yB_normal               1.325226  ...                 0.000000\n",
            "\n",
            "[24 rows x 24 columns]\n"
          ],
          "name": "stdout"
        }
      ]
    },
    {
      "cell_type": "code",
      "metadata": {
        "id": "ZqqKVsJjyYyB",
        "colab": {
          "base_uri": "https://localhost:8080/"
        },
        "outputId": "2c167f0b-268c-4d8f-eee6-5e757a6d466c"
      },
      "source": [
        "distances = torch.norm(embeddings[0] - embeddings[4])\n",
        "print(distances, names[0], names[4])"
      ],
      "execution_count": null,
      "outputs": [
        {
          "output_type": "stream",
          "text": [
            "tensor(1.4126) instagram-CILLIZZAC instagram-aimeecho\n"
          ],
          "name": "stdout"
        }
      ]
    },
    {
      "cell_type": "code",
      "metadata": {
        "id": "1c0Qi5Djj24-",
        "colab": {
          "base_uri": "https://localhost:8080/"
        },
        "outputId": "209b90b8-be79-4b42-b56e-b646b0c3d24c"
      },
      "source": [
        "x = names[0].startswith(\"instagram-\")\n",
        "# x = names[0].startswith(\"twitter-\")\n",
        "\n",
        "print(x)"
      ],
      "execution_count": null,
      "outputs": [
        {
          "output_type": "stream",
          "text": [
            "True\n"
          ],
          "name": "stdout"
        }
      ]
    },
    {
      "cell_type": "code",
      "metadata": {
        "id": "iEKjucMYmOSw",
        "colab": {
          "base_uri": "https://localhost:8080/",
          "height": 37
        },
        "outputId": "e49c8fbd-a0fd-4bcf-b258-a13e8a41102e"
      },
      "source": [
        "names[0]"
      ],
      "execution_count": null,
      "outputs": [
        {
          "output_type": "execute_result",
          "data": {
            "application/vnd.google.colaboratory.intrinsic+json": {
              "type": "string"
            },
            "text/plain": [
              "'instagram-CILLIZZAC'"
            ]
          },
          "metadata": {
            "tags": []
          },
          "execution_count": 17
        }
      ]
    },
    {
      "cell_type": "code",
      "metadata": {
        "id": "QaVhOvHK0649"
      },
      "source": [
        "def plotImages(path1, path2):\n",
        "  image1 = plt.imread(path1)\n",
        "  image2 = plt.imread(path2)\n",
        "\n",
        "  plt.figure(1)\n",
        "  plt.subplot(211)\n",
        "  plt.imshow(image1)\n",
        "\n",
        "  plt.subplot(212)\n",
        "  plt.imshow(image2)\n",
        "  plt.show()"
      ],
      "execution_count": null,
      "outputs": []
    },
    {
      "cell_type": "code",
      "metadata": {
        "id": "6hyEJkUhkz4d",
        "colab": {
          "base_uri": "https://localhost:8080/",
          "height": 553
        },
        "outputId": "74c1d727-f415-4f07-ee39-c6ffae43d8ce"
      },
      "source": [
        "matches = {}\n",
        "dis = {}\n",
        "threshold = 1.15\n",
        "for index1, name1 in enumerate(names):\n",
        "  if name1.startswith(\"twitter-\"):\n",
        "    for index2, name2 in enumerate(names):\n",
        "      if name2.startswith(\"instagram-\"):\n",
        "        distance = torch.norm(embeddings[index1] - embeddings[index2])\n",
        "        if(distance < threshold):\n",
        "          if name1 in dis:\n",
        "            if distance < dis[name1]:\n",
        "              matches[name1] = name2\n",
        "              dis[name1] = distance\n",
        "          else:\n",
        "            matches[name1] = name2\n",
        "            dis[name1] = distance\n",
        "\n",
        "# print(matches)\n",
        "# print(dis)\n",
        "\n",
        "for key, value in matches.items():\n",
        "  print('{} & {} | distance = {}'.format(key, value,dis[key].cpu().detach().numpy() ))\n",
        "  image1 = os.listdir(key)\n",
        "  image2 = os.listdir(value)\n",
        "\n",
        "  path1 = key + '/' +image1[0]\n",
        "  path2 = value + '/' + image2[0]\n",
        "\n",
        "  plotImages(path1, path2)"
      ],
      "execution_count": null,
      "outputs": [
        {
          "output_type": "stream",
          "text": [
            "twitter-EA5XFRYX_normal & instagram-aimeecho | distance = 0.991887629032135\n"
          ],
          "name": "stdout"
        },
        {
          "output_type": "display_data",
          "data": {
            "image/png": "[encoded data removed]",
            "text/plain": [
              "<Figure size 432x288 with 2 Axes>"
            ]
          },
          "metadata": {
            "tags": [],
            "needs_background": "light"
          }
        },
        {
          "output_type": "stream",
          "text": [
            "twitter-o08km8yB_normal & instagram-booyou | distance = 1.1419121026992798\n"
          ],
          "name": "stdout"
        },
        {
          "output_type": "display_data",
          "data": {
            "image/png": "[encoded data removed]",
            "text/plain": [
              "<Figure size 432x288 with 2 Axes>"
            ]
          },
          "metadata": {
            "tags": [],
            "needs_background": "light"
          }
        }
      ]
    },
    {
      "cell_type": "code",
      "metadata": {
        "id": "gdpcEXSi0KlE"
      },
      "source": [
        ""
      ],
      "execution_count": null,
      "outputs": []
    }
  ]
}